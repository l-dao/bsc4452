{
 "cells": [
  {
   "cell_type": "markdown",
   "metadata": {},
   "source": [
    "# Problem Set 3\n",
    "Linda Dao\n",
    "10.23.22\n",
    "\n",
    "## Problem 1\n",
    "Write a script (or Jupyter Notebook code block) that opens the file, uses a for loop to read through the file line by line and reports the highest water level and the date and time that was observed."
   ]
  },
  {
   "cell_type": "code",
   "execution_count": 203,
   "metadata": {},
   "outputs": [
    {
     "name": "stdout",
     "output_type": "stream",
     "text": [
      "The highest water level was on 2018-10-10 18:06 at 6.647 feet.\n"
     ]
    }
   ],
   "source": [
    "try:\n",
    "    fhand = open('blue_bsc4452/share/Class_Files/data/CO-OPS__8729108__wl.csv')\n",
    "    #print(\"data file opened for reading\")\n",
    "except:\n",
    "    print(\"Couldn't open file\")\n",
    "\n",
    "count = 0\n",
    "max_lvl = 0\n",
    "date_max = ''\n",
    "fhand.readline() # puts cursor after first line\n",
    "    \n",
    "for line in fhand:\n",
    "    count = count + 1\n",
    "    line = line.rstrip() # need to remove extra new line\n",
    "    #print(line) # Date Time, Water Level, Sigma, O, F, R, L, Quality \n",
    "    \n",
    "    columns = line.split(sep=',') # split on commas\n",
    "    date = columns[0]\n",
    "    #print(columns) # returns a list of elements that were split; each bracket is a list\n",
    "    try:\n",
    "        wat_lvl = float(columns[1]) # looking at water level content (column 1); need to ignore the header line\n",
    "    except:\n",
    "        #print(\"no water level data.\")\n",
    "        continue\n",
    "    \n",
    "    if wat_lvl > max_lvl: # need to convert strings to intergar for this to work\n",
    "        #print(\"New max water level found.\")\n",
    "        max_lvl = wat_lvl\n",
    "        date_max = date\n",
    "    \n",
    "print(\"The highest water level was on\", date_max, \"at\", max_lvl, \"feet.\") # 6.647"
   ]
  },
  {
   "cell_type": "markdown",
   "metadata": {},
   "source": [
    "## Problem 2\n",
    "Either in a new script or modifying the above script, calculate the lowest, highest and average water level observed during the time period. As above, print the date and time for the lowest and highest readings. "
   ]
  },
  {
   "cell_type": "code",
   "execution_count": 216,
   "metadata": {},
   "outputs": [
    {
     "name": "stdout",
     "output_type": "stream",
     "text": [
      "The highest water level was on 2018-10-10 18:06 at 6.647 feet.\n",
      "The lowest water level was on 2018-10-11 15:36 at 1.621 feet.\n",
      "The average water level is 2.978 feet.\n"
     ]
    }
   ],
   "source": [
    "try:\n",
    "    fhand = open('blue_bsc4452/share/Class_Files/data/CO-OPS__8729108__wl.csv')\n",
    "#   print(\"data file opened for reading\")\n",
    "except:\n",
    "    print(\"Couldn't open file\")\n",
    "\n",
    "count = 0\n",
    "max_lvl = 0\n",
    "date_max = ''\n",
    "prev_lvl = 10 # have to pick a high number\n",
    "prev_date = ''\n",
    "sum_of_list = 0\n",
    "fhand.readline() # puts cursor after first line\n",
    "    \n",
    "    \n",
    "for line in fhand:\n",
    "    count = count + 1\n",
    "    line = line.rstrip()  \n",
    "    \n",
    "    columns = line.split(sep=',') \n",
    "    date = columns[0]\n",
    "    date2 = columns[0]\n",
    "\n",
    "    try:\n",
    "        wat_lvl = float(columns[1]) # looking at water level content (column 1); need to ignore the header line\n",
    "    except:\n",
    "        continue\n",
    "    sum_of_list += wat_lvl\n",
    "    average = round(sum_of_list/count, 3)\n",
    "   \n",
    "    if wat_lvl > max_lvl: # need to convert strings to intergar for this to work\n",
    "        max_lvl = wat_lvl\n",
    "        date_max = date\n",
    "    if wat_lvl < prev_lvl:\n",
    "        prev_lvl = wat_lvl  \n",
    "        prev_date = date2\n",
    "\n",
    "# print('line count:', count) # 726; read through file again if running code again\n",
    "print(\"The highest water level was on\", date_max, \"at\", max_lvl, \"feet.\") # 6.647\n",
    "print(\"The lowest water level was on\", prev_date, \"at\", prev_lvl, \"feet.\")\n",
    "print(\"The average water level is\", average, \"feet.\")"
   ]
  },
  {
   "cell_type": "markdown",
   "metadata": {},
   "source": [
    "## Problem 3\n",
    "Write a script (or Jupyter Notebook) that calculates the fastest rise in water level per 6-minute period between measurements (for this assignment, assume that each line of the dataset is a 6-minute interval) and reports the date and time that was observed and the change in water level from the previous recording."
   ]
  },
  {
   "cell_type": "code",
   "execution_count": 230,
   "metadata": {},
   "outputs": [
    {
     "name": "stdout",
     "output_type": "stream",
     "text": [
      "The fastest rise in water levels was on 2018-10-10 17:42 with an increase of 0.64 meters\n"
     ]
    },
    {
     "data": {
      "text/plain": [
       "2.218"
      ]
     },
     "execution_count": 230,
     "metadata": {},
     "output_type": "execute_result"
    }
   ],
   "source": [
    "fhand = open('blue_bsc4452/share/Class_Files/data/CO-OPS__8729108__wl.csv')\n",
    "\n",
    "count = 0\n",
    "prev_lvl = 2.421\n",
    "prev_date = ''\n",
    "prev_change = 0\n",
    "change_lvl = 0\n",
    "change_max = 0\n",
    "change_date = ''\n",
    "fhand.readline() # puts cursor after first line\n",
    "    \n",
    "for line in fhand:\n",
    "    count = count + 1\n",
    "    line = line.rstrip()  \n",
    "    \n",
    "    columns = line.split(sep=',') \n",
    "    date = columns[0]\n",
    "\n",
    "    try:\n",
    "        wat_lvl = float(columns[1]) # looking at water level content (column 1); need to ignore the header line\n",
    "    except:\n",
    "        continue\n",
    "    \n",
    "    change_lvl = wat_lvl - prev_lvl # implies rise in water, not fall\n",
    "    if change_lvl > change_max:\n",
    "        change_max = change_lvl\n",
    "        change_date = date\n",
    "        \n",
    "    prev_lvl = wat_lvl # reassign water level as previous level    \n",
    "\n",
    "print(\"The fastest rise in water levels was on\", change_date, \"with an increase of\", round(change_max, 3), \"meters\")"
   ]
  },
  {
   "cell_type": "markdown",
   "metadata": {},
   "source": [
    "## Problem 4\n",
    "Imagine that the file is providing live readings of the water level. Write a script (or Jupyter Notebook) to print a line of text with a warning if any of these events occur:\n",
    "The water level increases more than 0.25 since the previous recording.\n",
    "The water level is over 5.0.\n",
    "No reading is received at a time point."
   ]
  },
  {
   "cell_type": "code",
   "execution_count": 243,
   "metadata": {},
   "outputs": [
    {
     "name": "stdout",
     "output_type": "stream",
     "text": [
      "2018-10-10 17:30 4.672 Warning: The water level has increased 0.25 feet since the last reading.\n",
      "2018-10-10 17:36 4.951 Warning: The water level has increased 0.25 feet since the last reading.\n",
      "2018-10-10 17:42 5.591 Warning: The water level has increased 0.25 feet since the last reading.\n",
      "2018-10-10 17:42 5.591 Warning: The water level is over 5.0 feet.\n",
      "2018-10-10 17:48 5.958 Warning: The water level has increased 0.25 feet since the last reading.\n",
      "2018-10-10 17:48 5.958 Warning: The water level is over 5.0 feet.\n",
      "2018-10-10 17:54 6.404 Warning: The water level has increased 0.25 feet since the last reading.\n",
      "2018-10-10 17:54 6.404 Warning: The water level is over 5.0 feet.\n",
      "2018-10-10 18:00 6.575 Warning: The water level is over 5.0 feet.\n",
      "2018-10-10 18:06 6.647 Warning: The water level is over 5.0 feet.\n",
      "2018-10-10 18:12 6.503 Warning: The water level is over 5.0 feet.\n",
      "Warning: Missing water level reading.\n",
      "2018-10-10 18:24 6.309 Warning: The water level is over 5.0 feet.\n",
      "2018-10-10 18:30 6.024 Warning: The water level is over 5.0 feet.\n",
      "2018-10-10 18:36 5.725 Warning: The water level is over 5.0 feet.\n",
      "2018-10-10 18:42 5.699 Warning: The water level is over 5.0 feet.\n",
      "2018-10-10 18:48 5.449 Warning: The water level is over 5.0 feet.\n",
      "2018-10-10 18:54 5.338 Warning: The water level is over 5.0 feet.\n",
      "2018-10-10 19:00 5.22 Warning: The water level is over 5.0 feet.\n"
     ]
    }
   ],
   "source": [
    "fhand = open('blue_bsc4452/share/Class_Files/data/CO-OPS__8729108__wl.csv')\n",
    "\n",
    "count = 0\n",
    "date = ''\n",
    "prev_lvl = 2.421\n",
    "prev_date = ''\n",
    "change_lvl = 0\n",
    "change_date = ''\n",
    "\n",
    "fhand.readline() # puts cursor after first line\n",
    "    \n",
    "import math\n",
    "for line in fhand:\n",
    "    count = count + 1\n",
    "    line = line.rstrip()  \n",
    "    \n",
    "    columns = line.split(sep=',') \n",
    "    date = columns[0]\n",
    "    \n",
    "    try:\n",
    "        wat_lvl = float(columns[1]) # looking at water level content (column 1); need to ignore the header line\n",
    "    except:\n",
    "        print(\"Warning: Missing water level reading.\")\n",
    "        continue    \n",
    "    change_lvl = wat_lvl - prev_lvl \n",
    "    prev_lvl = wat_lvl # reassign water level as previous level\n",
    "    if change_lvl > 0.25: \n",
    "        print(date, wat_lvl, \"Warning: The water level has increased 0.25 feet since the last reading.\")\n",
    "    if wat_lvl > 5.0:\n",
    "        print(date, wat_lvl, \"Warning: The water level is over 5.0 feet.\")"
   ]
  }
 ],
 "metadata": {
  "kernelspec": {
   "display_name": "UFRC Python-3.10",
   "language": "python",
   "name": "python3-3.10-ufrc"
  },
  "language_info": {
   "codemirror_mode": {
    "name": "ipython",
    "version": 3
   },
   "file_extension": ".py",
   "mimetype": "text/x-python",
   "name": "python",
   "nbconvert_exporter": "python",
   "pygments_lexer": "ipython3",
   "version": "3.10.5"
  }
 },
 "nbformat": 4,
 "nbformat_minor": 4
}
